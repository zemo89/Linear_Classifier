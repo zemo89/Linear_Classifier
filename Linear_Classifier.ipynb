{
  "nbformat": 4,
  "nbformat_minor": 0,
  "metadata": {
    "colab": {
      "name": "Linear_Classifier.ipynb",
      "provenance": []
    },
    "kernelspec": {
      "name": "python3",
      "display_name": "Python 3"
    },
    "language_info": {
      "name": "python"
    }
  },
  "cells": [
    {
      "cell_type": "code",
      "metadata": {
        "id": "ifHs61cc0rv6"
      },
      "source": [
        "import numpy as np\n",
        "import pandas as pd\n",
        "import seaborn as sns\n",
        "import tensorflow as tf\n",
        "import matplotlib.pyplot as plt\n",
        "from sklearn.preprocessing import LabelEncoder\n",
        "\n",
        "class Titanic:\n",
        "\n",
        "  def __init__(self):\n",
        "    self.train = pd.read_csv('train.csv',usecols = ['survived','sex'\t,'age','class','fare','class'])\n",
        "    self.test = pd.read_csv('eval.csv',usecols = ['survived','sex'\t,'age','class','fare','class'])\n",
        "\n",
        " \n",
        "  def dependent_features(self):\n",
        "    return self.train.pop('survived') , self.test.pop('survived')\n",
        "\n",
        "\n",
        "  def independent_features(self):\n",
        "    return self.train , self.test\n",
        "\n",
        "T = Titanic()\n",
        "train_y , test_y = T.dependent_features()\n",
        "train_titanic , test_titanic = T.independent_features()"
      ],
      "execution_count": 5,
      "outputs": []
    },
    {
      "cell_type": "code",
      "metadata": {
        "id": "n9Lzf-Dw06UK"
      },
      "source": [
        "le = LabelEncoder()\n",
        "class Modify_Features:\n",
        "\n",
        "  def modify_train_data(self,train,x,y):\n",
        "    return le.fit_transform(train[x]) , le.fit_transform(train[y])\n",
        "\n",
        "  def modify_test_data(self,test,x,y):\n",
        "    return le.fit_transform(test[x]) , le.fit_transform(test[y])\n",
        "\n",
        "  def feature(self):\n",
        "    features_col = []\n",
        "    for key in train_titanic.keys():\n",
        "      features_col.append(tf.feature_column.numeric_column(key = key))\n",
        "    return features_col\n",
        "\n",
        "\n",
        "m = Modify_Features()\n",
        "train_titanic['sex'] , train_titanic['class'] = m.modify_train_data(train_titanic,'sex','class')\n",
        "test_titanic['sex'] , test_titanic['class'] = m.modify_test_data(test_titanic,'sex','class')\n",
        "input_features = m.feature()"
      ],
      "execution_count": 2,
      "outputs": []
    },
    {
      "cell_type": "code",
      "metadata": {
        "id": "y0WC5qNk0-th"
      },
      "source": [
        "def make_input(train , test , shuffle = True , batch_size = 128):\n",
        "  def input():\n",
        "    ds = tf.data.Dataset.from_tensor_slices((dict(train),test))\n",
        "    if shuffle:\n",
        "      ds = ds.shuffle(1000)\n",
        "    ds = ds.batch(batch_size).repeat(500)\n",
        "    return ds\n",
        "  return input\n",
        "\n",
        "titanic_train_ip = make_input(train_titanic , train_y)\n",
        "titanic_test_ip  = make_input(test_titanic , test_y , shuffle = False)"
      ],
      "execution_count": 3,
      "outputs": []
    },
    {
      "cell_type": "code",
      "metadata": {
        "colab": {
          "base_uri": "https://localhost:8080/"
        },
        "id": "mon0zwfx1CZp",
        "outputId": "9c12b414-ebc1-4722-8d61-4414c084aac5"
      },
      "source": [
        "class Neural_network:\n",
        "\n",
        "  def __init__(self):\n",
        "    self.model = tf.estimator.LinearClassifier(feature_columns = input_features)\n",
        "  \n",
        "  def model_training(self):\n",
        "    self.model.train(titanic_train_ip)\n",
        "\n",
        "  def model_evaluation(self):\n",
        "    self.model_training()\n",
        "    result = self.model.evaluate(titanic_test_ip)\n",
        "    print('accuracy for evaluation is : ',result['accuracy'])\n",
        "\n",
        "  def prediction_on_model(self):\n",
        "    self.model_evaluation()\n",
        "    prediction = list(self.model.predict(titanic_test_ip))\n",
        "    print(test_titanic.loc[0])\n",
        "    print(prediction[0]['probabilities'])\n",
        "\n",
        "\n",
        "n = Neural_network()\n",
        "n.prediction_on_model()"
      ],
      "execution_count": 4,
      "outputs": [
        {
          "output_type": "stream",
          "text": [
            "INFO:tensorflow:Using default config.\n",
            "WARNING:tensorflow:Using temporary folder as model directory: /tmp/tmp6duzobxz\n",
            "INFO:tensorflow:Using config: {'_model_dir': '/tmp/tmp6duzobxz', '_tf_random_seed': None, '_save_summary_steps': 100, '_save_checkpoints_steps': None, '_save_checkpoints_secs': 600, '_session_config': allow_soft_placement: true\n",
            "graph_options {\n",
            "  rewrite_options {\n",
            "    meta_optimizer_iterations: ONE\n",
            "  }\n",
            "}\n",
            ", '_keep_checkpoint_max': 5, '_keep_checkpoint_every_n_hours': 10000, '_log_step_count_steps': 100, '_train_distribute': None, '_device_fn': None, '_protocol': None, '_eval_distribute': None, '_experimental_distribute': None, '_experimental_max_worker_delay_secs': None, '_session_creation_timeout_secs': 7200, '_checkpoint_save_graph_def': True, '_service': None, '_cluster_spec': ClusterSpec({}), '_task_type': 'worker', '_task_id': 0, '_global_id_in_cluster': 0, '_master': '', '_evaluation_master': '', '_is_chief': True, '_num_ps_replicas': 0, '_num_worker_replicas': 1}\n",
            "WARNING:tensorflow:From /usr/local/lib/python3.7/dist-packages/tensorflow/python/training/training_util.py:236: Variable.initialized_value (from tensorflow.python.ops.variables) is deprecated and will be removed in a future version.\n",
            "Instructions for updating:\n",
            "Use Variable.read_value. Variables in 2.X are initialized automatically both in eager and graph (inside tf.defun) contexts.\n",
            "INFO:tensorflow:Calling model_fn.\n"
          ],
          "name": "stdout"
        },
        {
          "output_type": "stream",
          "text": [
            "/usr/local/lib/python3.7/dist-packages/tensorflow/python/keras/engine/base_layer_v1.py:1700: UserWarning: `layer.add_variable` is deprecated and will be removed in a future version. Please use `layer.add_weight` method instead.\n",
            "  warnings.warn('`layer.add_variable` is deprecated and '\n"
          ],
          "name": "stderr"
        },
        {
          "output_type": "stream",
          "text": [
            "WARNING:tensorflow:From /usr/local/lib/python3.7/dist-packages/tensorflow/python/keras/optimizer_v2/ftrl.py:149: calling Constant.__init__ (from tensorflow.python.ops.init_ops) with dtype is deprecated and will be removed in a future version.\n",
            "Instructions for updating:\n",
            "Call initializer instance with the dtype argument instead of passing it to the constructor\n",
            "INFO:tensorflow:Done calling model_fn.\n",
            "INFO:tensorflow:Create CheckpointSaverHook.\n",
            "INFO:tensorflow:Graph was finalized.\n",
            "INFO:tensorflow:Running local_init_op.\n",
            "INFO:tensorflow:Done running local_init_op.\n",
            "INFO:tensorflow:Calling checkpoint listeners before saving checkpoint 0...\n",
            "INFO:tensorflow:Saving checkpoints for 0 into /tmp/tmp6duzobxz/model.ckpt.\n",
            "INFO:tensorflow:Calling checkpoint listeners after saving checkpoint 0...\n",
            "INFO:tensorflow:loss = 0.6931472, step = 0\n",
            "INFO:tensorflow:global_step/sec: 513.227\n",
            "INFO:tensorflow:loss = 0.4896494, step = 100 (0.201 sec)\n",
            "INFO:tensorflow:global_step/sec: 747.365\n",
            "INFO:tensorflow:loss = 0.43865266, step = 200 (0.133 sec)\n",
            "INFO:tensorflow:global_step/sec: 788.762\n",
            "INFO:tensorflow:loss = 0.48590034, step = 300 (0.123 sec)\n",
            "INFO:tensorflow:global_step/sec: 789.639\n",
            "INFO:tensorflow:loss = 0.46043223, step = 400 (0.131 sec)\n",
            "INFO:tensorflow:global_step/sec: 802.735\n",
            "INFO:tensorflow:loss = 0.3937087, step = 500 (0.124 sec)\n",
            "INFO:tensorflow:global_step/sec: 762.43\n",
            "INFO:tensorflow:loss = 0.4310811, step = 600 (0.131 sec)\n",
            "INFO:tensorflow:global_step/sec: 806.109\n",
            "INFO:tensorflow:loss = 0.5351057, step = 700 (0.124 sec)\n",
            "INFO:tensorflow:global_step/sec: 815.319\n",
            "INFO:tensorflow:loss = 0.4284606, step = 800 (0.122 sec)\n",
            "INFO:tensorflow:global_step/sec: 686.87\n",
            "INFO:tensorflow:loss = 0.43371385, step = 900 (0.146 sec)\n",
            "INFO:tensorflow:global_step/sec: 700.649\n",
            "INFO:tensorflow:loss = 0.4392144, step = 1000 (0.143 sec)\n",
            "INFO:tensorflow:global_step/sec: 835.732\n",
            "INFO:tensorflow:loss = 0.38541868, step = 1100 (0.121 sec)\n",
            "INFO:tensorflow:global_step/sec: 790.048\n",
            "INFO:tensorflow:loss = 0.3982014, step = 1200 (0.126 sec)\n",
            "INFO:tensorflow:global_step/sec: 825.241\n",
            "INFO:tensorflow:loss = 0.39274883, step = 1300 (0.120 sec)\n",
            "INFO:tensorflow:global_step/sec: 776.385\n",
            "INFO:tensorflow:loss = 0.38975677, step = 1400 (0.126 sec)\n",
            "INFO:tensorflow:global_step/sec: 667.955\n",
            "INFO:tensorflow:loss = 0.44093582, step = 1500 (0.154 sec)\n",
            "INFO:tensorflow:global_step/sec: 672.589\n",
            "INFO:tensorflow:loss = 0.38031206, step = 1600 (0.148 sec)\n",
            "INFO:tensorflow:global_step/sec: 658.006\n",
            "INFO:tensorflow:loss = 0.39470458, step = 1700 (0.148 sec)\n",
            "INFO:tensorflow:global_step/sec: 674.489\n",
            "INFO:tensorflow:loss = 0.42606422, step = 1800 (0.151 sec)\n",
            "INFO:tensorflow:global_step/sec: 764.258\n",
            "INFO:tensorflow:loss = 0.42199713, step = 1900 (0.131 sec)\n",
            "INFO:tensorflow:global_step/sec: 780.401\n",
            "INFO:tensorflow:loss = 0.4772786, step = 2000 (0.125 sec)\n",
            "INFO:tensorflow:global_step/sec: 767.766\n",
            "INFO:tensorflow:loss = 0.4971447, step = 2100 (0.130 sec)\n",
            "INFO:tensorflow:global_step/sec: 780.386\n",
            "INFO:tensorflow:loss = 0.4653108, step = 2200 (0.132 sec)\n",
            "INFO:tensorflow:global_step/sec: 721.894\n",
            "INFO:tensorflow:loss = 0.34084764, step = 2300 (0.138 sec)\n",
            "INFO:tensorflow:global_step/sec: 809.36\n",
            "INFO:tensorflow:loss = 0.44416368, step = 2400 (0.124 sec)\n",
            "INFO:tensorflow:Calling checkpoint listeners before saving checkpoint 2500...\n",
            "INFO:tensorflow:Saving checkpoints for 2500 into /tmp/tmp6duzobxz/model.ckpt.\n",
            "INFO:tensorflow:Calling checkpoint listeners after saving checkpoint 2500...\n",
            "INFO:tensorflow:Loss for final step: 0.4181739.\n",
            "INFO:tensorflow:Calling model_fn.\n",
            "INFO:tensorflow:Done calling model_fn.\n",
            "INFO:tensorflow:Starting evaluation at 2021-07-07T02:38:09\n",
            "INFO:tensorflow:Graph was finalized.\n",
            "INFO:tensorflow:Restoring parameters from /tmp/tmp6duzobxz/model.ckpt-2500\n",
            "INFO:tensorflow:Running local_init_op.\n",
            "INFO:tensorflow:Done running local_init_op.\n",
            "INFO:tensorflow:Inference Time : 3.02258s\n",
            "INFO:tensorflow:Finished evaluation at 2021-07-07-02:38:12\n",
            "INFO:tensorflow:Saving dict for global step 2500: accuracy = 0.75, accuracy_baseline = 0.625, auc = 0.8194674, auc_precision_recall = 0.7624954, average_loss = 0.50632507, global_step = 2500, label/mean = 0.375, loss = 0.5004593, precision = 0.66019416, prediction/mean = 0.41056827, recall = 0.68686867\n",
            "INFO:tensorflow:Saving 'checkpoint_path' summary for global step 2500: /tmp/tmp6duzobxz/model.ckpt-2500\n",
            "accuracy for evaluation is :  0.75\n",
            "INFO:tensorflow:Calling model_fn.\n",
            "INFO:tensorflow:Done calling model_fn.\n",
            "INFO:tensorflow:Graph was finalized.\n",
            "INFO:tensorflow:Restoring parameters from /tmp/tmp6duzobxz/model.ckpt-2500\n",
            "INFO:tensorflow:Running local_init_op.\n",
            "INFO:tensorflow:Done running local_init_op.\n",
            "sex       1.00\n",
            "age      35.00\n",
            "fare      8.05\n",
            "class     2.00\n",
            "Name: 0, dtype: float64\n",
            "[0.9052564 0.0947436]\n"
          ],
          "name": "stdout"
        }
      ]
    },
    {
      "cell_type": "code",
      "metadata": {
        "id": "_ee3WOkC1FSy"
      },
      "source": [
        ""
      ],
      "execution_count": null,
      "outputs": []
    }
  ]
}